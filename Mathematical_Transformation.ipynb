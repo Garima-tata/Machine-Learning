{
 "cells": [
  {
   "attachments": {},
   "cell_type": "markdown",
   "metadata": {},
   "source": [
    "```\n",
    "1. Log transformation\n",
    "2. Reciprocal\n",
    "3. Power(square/ squareroot)\n",
    "\n",
    "<!-- Complex transform --> \n",
    "1. Box-Cox\n",
    "2. Yeo-Johnson\n",
    "\n",
    "\n",
    "These transformation converts our data distribution in Normal Distribution. <br>\n",
    "\n",
    "because normal distribution makes calculation and problem solving easy. <br>\n",
    "in linear regression, logistic regression it is assumed that data is normalised.\n",
    "\n",
    "In scikit-learn: three tranformer library is given , Function Tranformer, Power transformer, Quantile Tranform.\n",
    "\n",
    "\n",
    "<br>\n",
    "\n",
    "<!-- Function Tranformer -->\n",
    "1. Log transformation\n",
    "2. Reciprocal\n",
    "3. Power(square/ squareroot)\n",
    "4. Custom\n",
    "\n",
    "<!-- Power transformer --> \n",
    "1. Box-Cox\n",
    "2. Yeo-Johnson\n",
    "\n",
    "<!-- Quantile tranform -->\n",
    "Zyaada use nhi aaya toh nhi bataya\n",
    "```"
   ]
  },
  {
   "attachments": {},
   "cell_type": "markdown",
   "metadata": {},
   "source": [
    "Q 1. How to ind data is Normal or not.\n",
    "1. sns.distplot()\n",
    "2. pd.skew() = 0,  nomal, neg/pos then skewed \n",
    "3. QQplot (statistics)\n"
   ]
  },
  {
   "attachments": {},
   "cell_type": "markdown",
   "metadata": {},
   "source": [
    "```\n",
    "Log transform: take log of every value. then data becomes more normaly distributed.\n",
    "\n",
    "1. we can not use log tran. for negative valued column.\n",
    "2. right skewed data becomes centered data, so we should use log tranform on right skewed data.\n",
    "3. dur wali values pass aa jati hu kareeb kareeb dikhyi padene ki wajah se \n",
    "\n",
    "linear and logistic regression works more better.\n",
    "\n",
    "\n",
    "Other Transforms:\n",
    "\n",
    "reciprocal 1/x      sq (x^2)            sqrt( (x)^0.5 )\n",
    "                |                   |                   \n",
    "                |     left skewd    |                   \n",
    "                |                   |                   \n",
    "                |                   |                   \n",
    "                |                   |        \n",
    "            \n",
    "```"
   ]
  },
  {
   "cell_type": "code",
   "execution_count": null,
   "metadata": {},
   "outputs": [],
   "source": []
  }
 ],
 "metadata": {
  "language_info": {
   "name": "python"
  },
  "orig_nbformat": 4
 },
 "nbformat": 4,
 "nbformat_minor": 2
}
