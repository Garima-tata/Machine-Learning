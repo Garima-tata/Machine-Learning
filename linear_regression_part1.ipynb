{
  "nbformat": 4,
  "nbformat_minor": 0,
  "metadata": {
    "colab": {
      "provenance": [],
      "authorship_tag": "ABX9TyMiKGE89BgI2ah8NPob8met"
    },
    "kernelspec": {
      "name": "python3",
      "display_name": "Python 3"
    },
    "language_info": {
      "name": "python"
    }
  },
  "cells": [
    {
      "cell_type": "markdown",
      "source": [
        "# LINEAR REGRESSION\n",
        "\n",
        "Regression searches for relationships among variables.\n",
        "\n",
        "**For example** how the salaries of employee varies depend on their features, such as experience, education level, role, location, and so on.\n",
        "\n",
        "This is a regression problem where data related to each employee represents one observation.\n",
        "The presumption is that the experience, education, role, and city are the ***independent features***, while the salary ***depends*** on them.\n",
        "\n",
        "Similarly, The mathematical dependence of housing prices on area, number of bedrooms, distance to the city center, and so on.\n",
        "\n",
        "In other words, you need to find a function that maps some features or variables to others sufficiently well.\n",
        "\n",
        "The dependent features are called the dependent variables, outputs, or responses. The independent features are called the independent variables, inputs, regressors, or predictors.\n",
        "\n",
        "Regression problems usually have one continuous and unbounded dependent variable. The inputs, however, can be continuous, discrete, or even categorical data such as gender, nationality, or brand."
      ],
      "metadata": {
        "id": "WfHTpN6jtNbp"
      }
    },
    {
      "cell_type": "markdown",
      "source": [
        "# Why Do we Need regression\n",
        "\n",
        "* Regression can answer whether and how some phenomenon influences the other or how several variables are related. For example, Experience or Gender impacts on salaries.\n",
        "\n",
        "* Regression can forecast a response using a new set of predictors. For example, Predict electricity consumption of a household for the next hour given the outdoor temperature, time of day, and number of residents in that household."
      ],
      "metadata": {
        "id": "icxC9q3Ju5IB"
      }
    },
    {
      "cell_type": "markdown",
      "source": [
        "# SSR\n",
        "\n",
        "SSR stands for Sum of Squared Residuals. In linear regression, the residuals are the differences between the actual response values (𝑦ᵢ) and the predicted response values (𝑓(𝐱ᵢ)) for each observation (indexed by 𝑖 = 1, …, 𝑛). The sum of squared residuals (SSR) is obtained by squaring each residual and summing them up.\n",
        "\n",
        "Mathematically, SSR is calculated as follows:\n",
        "\n",
        "SSR = Σᵢ(𝑦ᵢ - 𝑓(𝐱ᵢ))²\n",
        "\n",
        "The purpose of linear regression is to find the best predicted weights (𝑏₀, 𝑏₁, …, 𝑏ᵣ) that minimize the SSR. In other words, we seek the weights that minimize the overall difference between the predicted values and the actual values. By minimizing the SSR, we are finding the regression line or equation that best fits the data and provides the closest approximation to the actual observations.\n",
        "\n",
        "Minimizing the SSR is a key principle in the method of ordinary least squares, which is commonly used to estimate the regression coefficients in linear regression"
      ],
      "metadata": {
        "id": "_hwSImCny0ch"
      }
    },
    {
      "cell_type": "markdown",
      "source": [
        "# Problem Formulation\n",
        "\n",
        "When implementing linear regression, our goal is to predict a dependent variable (𝑦) based on a set of independent variables (𝐱 = 𝑥₁, …, 𝑥ᵣ). We assume a linear relationship between 𝑦 and 𝐱, which is represented by the regression equation:\n",
        "\n",
        "𝑦 = 𝛽₀ + 𝛽₁𝑥₁ + ⋯ + 𝛽ᵣ𝑥ᵣ + 𝜀\n",
        "\n",
        "Here, 𝛽₀, 𝛽₁, …, 𝛽ᵣ are the regression coefficients, and 𝜀 is the random error term.\n",
        "\n",
        "Linear regression calculates predicted weights (𝑏₀, 𝑏₁, …, 𝑏ᵣ), which define the estimated regression function:\n",
        "\n",
        "𝑓(𝐱) = 𝑏₀ + 𝑏₁𝑥₁ + ⋯ + 𝑏ᵣ𝑥ᵣ\n",
        "\n",
        "This function captures the dependencies between the input variables and the output variable.\n",
        "\n",
        "Our goal is to make 𝑓(𝐱ᵢ) as close as possible to the actual response 𝑦ᵢ for each observation (indexed by 𝑖 = 1, …, 𝑛). The differences between 𝑦ᵢ and 𝑓(𝐱ᵢ) are called residuals. To find the best predicted weights, we minimize the sum of squared residuals (SSR) for all observations.\n",
        "\n",
        "The coefficient of determination (𝑅²) indicates the proportion of variation in the dependent variable (𝑦) that can be explained by the independent variables (𝐱) using the regression model. A larger 𝑅² implies a better fit, meaning the model can explain more of the output's variation with different inputs.\n",
        "\n",
        "In an ideal case where 𝑅² = 1, SSR = 0, indicating a perfect fit where the predicted and actual responses align completely.\n"
      ],
      "metadata": {
        "id": "Wp0Q29EgySKg"
      }
    },
    {
      "cell_type": "markdown",
      "source": [
        "#Types of linear regression\n",
        "\n",
        "* Simple linear regression: Predicting a dependent variable using a single independent variable. Use when there is a linear relationship between one dependent variable and one independent variable. 𝑦 = 𝛽₀ + 𝛽₁𝑥 .\n",
        "\n",
        "* Multiple linear regression: Predicting a dependent variable using multiple independent variables. Use when there are multiple independent variables and a linear relationship is assumed between them and one dependent variable. 𝑦 = 𝛽₀ + 𝛽₁𝑥₁ + ⋯ + 𝛽ᵣ𝑥ᵣ.\n",
        "\n",
        "* Polynomial linear regression: Predicting a dependent variable using polynomial terms of the independent variable(s). Use when the relationship between the dependent variable and the independent variable(s) appears to be nonlinear or when higher-order terms may better capture the underlying pattern. It allows for more flexibility in modeling nonlinear relationships by including polynomial terms.  𝑦 = 𝛽₀ + 𝛽₁𝑥 + 𝛽₂𝑥² + ⋯ + 𝛽ₙ𝑥ⁿ  .\n"
      ],
      "metadata": {
        "id": "WUNtmwdXzkzc"
      }
    },
    {
      "cell_type": "markdown",
      "source": [
        "# What Degree to use in polynomial regression\n",
        "Choosing the optimal degree in polynomial regression involves finding a balance between underfitting (oversimplified model) and overfitting (overly complex model). Underfitting fails to capture data patterns, while overfitting captures noise. The goal is to select a degree that accurately represents the data without being too simple or too complex.\n",
        "\n",
        "In the context of polynomial regression, the degree refers to the highest power or order of the polynomial equation used to model the relationship between the independent variables and the dependent variable. For example, in a linear regression, the degree is 1 because the equation is a first-degree polynomial (y = b0 + b1x). In a quadratic regression, the degree is 2 because the equation is a second-degree polynomial (y = b0 + b1x + b2*x^2). The degree determines the flexibility and complexity of the polynomial function, and it can be adjusted to capture different levels of non-linearity in the data.\n",
        "[link text](https://files.realpython.com/media/poly-reg.5790f47603d8.png)"
      ],
      "metadata": {
        "id": "BQGoz2jk2UxQ"
      }
    },
    {
      "cell_type": "markdown",
      "source": [
        "# PYTHON PACKAGES\n",
        "\n",
        "To implement linear regression in Python, you'll need to use the following packages:\n",
        "\n",
        "NumPy: To perform operations on arrays and mathematical routines. It's open-source and widely used in data science and machine learning. <br>\n",
        "**pip install numpy**\n",
        "\n",
        "scikit-learn: Provides tools for machine learning tasks such as regression, classification, and clustering. It offers preprocessing capabilities. <br>\n",
        "**pip install scikit-learn**\n",
        "\n",
        "For more advanced statistical modeling and testing functionality use statsmodels. <br>  **pip install statsmodels**"
      ],
      "metadata": {
        "id": "uSI4JrCq3tTT"
      }
    },
    {
      "cell_type": "markdown",
      "source": [
        "#IMPORT PACKAGES"
      ],
      "metadata": {
        "id": "NLgf01JG5ffq"
      }
    },
    {
      "cell_type": "code",
      "source": [
        "import numpy as np\n",
        "from sklearn.linear_model import LinearRegression"
      ],
      "metadata": {
        "id": "COnSeRgj6PMB"
      },
      "execution_count": null,
      "outputs": []
    },
    {
      "cell_type": "markdown",
      "source": [
        "# PROVIDE DATA AND DO TRANFORMATIONS"
      ],
      "metadata": {
        "id": "UfnZ-FWE5iAx"
      }
    },
    {
      "cell_type": "code",
      "source": [
        "x = np.array([5, 15, 25, 35, 45, 55]).reshape((-1, 1))\n",
        "y = np.array([5, 20, 14, 32, 22, 38])\n",
        "print(x)\n",
        "print(y)"
      ],
      "metadata": {
        "colab": {
          "base_uri": "https://localhost:8080/"
        },
        "id": "pBVDaUlL6P1U",
        "outputId": "f2b6b5ee-413d-47d5-e0fa-7e9b117f4bfe"
      },
      "execution_count": null,
      "outputs": [
        {
          "output_type": "stream",
          "name": "stdout",
          "text": [
            "[[ 5]\n",
            " [15]\n",
            " [25]\n",
            " [35]\n",
            " [45]\n",
            " [55]]\n",
            "[ 5 20 14 32 22 38]\n"
          ]
        }
      ]
    },
    {
      "cell_type": "markdown",
      "source": [
        "#CREATE REGRESSION MODEL AND FIT IN THE DATA"
      ],
      "metadata": {
        "id": "XVxjvdFO5mrE"
      }
    },
    {
      "cell_type": "code",
      "source": [
        "model = LinearRegression()\n",
        "model.fit(x, y)"
      ],
      "metadata": {
        "colab": {
          "base_uri": "https://localhost:8080/",
          "height": 75
        },
        "id": "jVhbVyjd6SPI",
        "outputId": "005b8a21-b34c-497c-c3a5-9cf6cd194c93"
      },
      "execution_count": null,
      "outputs": [
        {
          "output_type": "execute_result",
          "data": {
            "text/plain": [
              "LinearRegression()"
            ],
            "text/html": [
              "<style>#sk-container-id-1 {color: black;background-color: white;}#sk-container-id-1 pre{padding: 0;}#sk-container-id-1 div.sk-toggleable {background-color: white;}#sk-container-id-1 label.sk-toggleable__label {cursor: pointer;display: block;width: 100%;margin-bottom: 0;padding: 0.3em;box-sizing: border-box;text-align: center;}#sk-container-id-1 label.sk-toggleable__label-arrow:before {content: \"▸\";float: left;margin-right: 0.25em;color: #696969;}#sk-container-id-1 label.sk-toggleable__label-arrow:hover:before {color: black;}#sk-container-id-1 div.sk-estimator:hover label.sk-toggleable__label-arrow:before {color: black;}#sk-container-id-1 div.sk-toggleable__content {max-height: 0;max-width: 0;overflow: hidden;text-align: left;background-color: #f0f8ff;}#sk-container-id-1 div.sk-toggleable__content pre {margin: 0.2em;color: black;border-radius: 0.25em;background-color: #f0f8ff;}#sk-container-id-1 input.sk-toggleable__control:checked~div.sk-toggleable__content {max-height: 200px;max-width: 100%;overflow: auto;}#sk-container-id-1 input.sk-toggleable__control:checked~label.sk-toggleable__label-arrow:before {content: \"▾\";}#sk-container-id-1 div.sk-estimator input.sk-toggleable__control:checked~label.sk-toggleable__label {background-color: #d4ebff;}#sk-container-id-1 div.sk-label input.sk-toggleable__control:checked~label.sk-toggleable__label {background-color: #d4ebff;}#sk-container-id-1 input.sk-hidden--visually {border: 0;clip: rect(1px 1px 1px 1px);clip: rect(1px, 1px, 1px, 1px);height: 1px;margin: -1px;overflow: hidden;padding: 0;position: absolute;width: 1px;}#sk-container-id-1 div.sk-estimator {font-family: monospace;background-color: #f0f8ff;border: 1px dotted black;border-radius: 0.25em;box-sizing: border-box;margin-bottom: 0.5em;}#sk-container-id-1 div.sk-estimator:hover {background-color: #d4ebff;}#sk-container-id-1 div.sk-parallel-item::after {content: \"\";width: 100%;border-bottom: 1px solid gray;flex-grow: 1;}#sk-container-id-1 div.sk-label:hover label.sk-toggleable__label {background-color: #d4ebff;}#sk-container-id-1 div.sk-serial::before {content: \"\";position: absolute;border-left: 1px solid gray;box-sizing: border-box;top: 0;bottom: 0;left: 50%;z-index: 0;}#sk-container-id-1 div.sk-serial {display: flex;flex-direction: column;align-items: center;background-color: white;padding-right: 0.2em;padding-left: 0.2em;position: relative;}#sk-container-id-1 div.sk-item {position: relative;z-index: 1;}#sk-container-id-1 div.sk-parallel {display: flex;align-items: stretch;justify-content: center;background-color: white;position: relative;}#sk-container-id-1 div.sk-item::before, #sk-container-id-1 div.sk-parallel-item::before {content: \"\";position: absolute;border-left: 1px solid gray;box-sizing: border-box;top: 0;bottom: 0;left: 50%;z-index: -1;}#sk-container-id-1 div.sk-parallel-item {display: flex;flex-direction: column;z-index: 1;position: relative;background-color: white;}#sk-container-id-1 div.sk-parallel-item:first-child::after {align-self: flex-end;width: 50%;}#sk-container-id-1 div.sk-parallel-item:last-child::after {align-self: flex-start;width: 50%;}#sk-container-id-1 div.sk-parallel-item:only-child::after {width: 0;}#sk-container-id-1 div.sk-dashed-wrapped {border: 1px dashed gray;margin: 0 0.4em 0.5em 0.4em;box-sizing: border-box;padding-bottom: 0.4em;background-color: white;}#sk-container-id-1 div.sk-label label {font-family: monospace;font-weight: bold;display: inline-block;line-height: 1.2em;}#sk-container-id-1 div.sk-label-container {text-align: center;}#sk-container-id-1 div.sk-container {/* jupyter's `normalize.less` sets `[hidden] { display: none; }` but bootstrap.min.css set `[hidden] { display: none !important; }` so we also need the `!important` here to be able to override the default hidden behavior on the sphinx rendered scikit-learn.org. See: https://github.com/scikit-learn/scikit-learn/issues/21755 */display: inline-block !important;position: relative;}#sk-container-id-1 div.sk-text-repr-fallback {display: none;}</style><div id=\"sk-container-id-1\" class=\"sk-top-container\"><div class=\"sk-text-repr-fallback\"><pre>LinearRegression()</pre><b>In a Jupyter environment, please rerun this cell to show the HTML representation or trust the notebook. <br />On GitHub, the HTML representation is unable to render, please try loading this page with nbviewer.org.</b></div><div class=\"sk-container\" hidden><div class=\"sk-item\"><div class=\"sk-estimator sk-toggleable\"><input class=\"sk-toggleable__control sk-hidden--visually\" id=\"sk-estimator-id-1\" type=\"checkbox\" checked><label for=\"sk-estimator-id-1\" class=\"sk-toggleable__label sk-toggleable__label-arrow\">LinearRegression</label><div class=\"sk-toggleable__content\"><pre>LinearRegression()</pre></div></div></div></div></div>"
            ]
          },
          "metadata": {},
          "execution_count": 8
        }
      ]
    },
    {
      "cell_type": "markdown",
      "source": [
        "# CHECK RESULTS OF MODEL FITTING"
      ],
      "metadata": {
        "id": "mzVkbZmq5rof"
      }
    },
    {
      "cell_type": "code",
      "source": [
        "r_sq = model.score(x, y)\n",
        "print(f\"coefficient of determination: {r_sq}\")\n",
        "print(f\"intercept: {model.intercept_}\")\n",
        "print(f\"slope: {model.coef_}\")"
      ],
      "metadata": {
        "colab": {
          "base_uri": "https://localhost:8080/"
        },
        "id": "fWV2vTkx6Tvt",
        "outputId": "f60aac74-41cf-4783-a8a3-b43968f46720"
      },
      "execution_count": null,
      "outputs": [
        {
          "output_type": "stream",
          "name": "stdout",
          "text": [
            "coefficient of determination: 0.7158756137479542\n",
            "intercept: 5.633333333333329\n",
            "slope: [0.54]\n"
          ]
        }
      ]
    },
    {
      "cell_type": "markdown",
      "source": [
        "# DO PREDICTIONS\n",
        "\n"
      ],
      "metadata": {
        "id": "xYLFvTaD6AiJ"
      }
    },
    {
      "cell_type": "code",
      "source": [
        "y_pred = model.predict(x)\n",
        "print(f\"predicted response:\\n{y_pred}\")\n",
        "y_pred = model.intercept_ + model.coef_ * x\n",
        "print(f\"predicted response:\\n{y_pred}\")\n",
        "y_pred = model.intercept_ + x.ravel()*model.coef_   ### change the dimensions of x to 1 D same response as model.predict\n",
        "print(f\"predicted response:\\n{y_pred}\")"
      ],
      "metadata": {
        "colab": {
          "base_uri": "https://localhost:8080/"
        },
        "id": "thsGzVTj043n",
        "outputId": "6bbb1479-9a2b-4b4b-fdbf-460b01f4fd9e"
      },
      "execution_count": null,
      "outputs": [
        {
          "output_type": "stream",
          "name": "stdout",
          "text": [
            "predicted response:\n",
            "[ 8.33333333 13.73333333 19.13333333 24.53333333 29.93333333 35.33333333]\n",
            "predicted response:\n",
            "[[ 8.33333333]\n",
            " [13.73333333]\n",
            " [19.13333333]\n",
            " [24.53333333]\n",
            " [29.93333333]\n",
            " [35.33333333]]\n",
            "predicted response:\n",
            "[ 8.33333333 13.73333333 19.13333333 24.53333333 29.93333333 35.33333333]\n"
          ]
        }
      ]
    },
    {
      "cell_type": "code",
      "source": [
        "x_new = np.arange(5).reshape((-1, 1))\n",
        "x_new\n",
        "y_new = model.predict(x_new)\n",
        "y_new"
      ],
      "metadata": {
        "colab": {
          "base_uri": "https://localhost:8080/"
        },
        "id": "kP98hulY8TpP",
        "outputId": "43f5ae76-4617-49d7-e045-43c850174874"
      },
      "execution_count": null,
      "outputs": [
        {
          "output_type": "execute_result",
          "data": {
            "text/plain": [
              "array([5.63333333, 6.17333333, 6.71333333, 7.25333333, 7.79333333])"
            ]
          },
          "metadata": {},
          "execution_count": 13
        }
      ]
    },
    {
      "cell_type": "markdown",
      "source": [
        "# EXAMPLE USING DIABETES DATASET IN SKLEARN\n",
        "credits : # Code source: Jaques Grobler # License: BSD 3 clause"
      ],
      "metadata": {
        "id": "Ig6OQxSY-I6G"
      }
    },
    {
      "cell_type": "code",
      "source": [
        "## IMPORT PACKAGES\n",
        "import matplotlib.pyplot as plt\n",
        "import numpy as np\n",
        "from sklearn import datasets, linear_model\n",
        "from sklearn.metrics import mean_squared_error, r2_score"
      ],
      "metadata": {
        "id": "pTkeEYTw-ZgU"
      },
      "execution_count": null,
      "outputs": []
    },
    {
      "cell_type": "code",
      "source": [
        "## LOAD DATA\n",
        "diabetes_X, diabetes_y = datasets.load_diabetes(return_X_y=True)"
      ],
      "metadata": {
        "id": "k9ZS4zHN-hwx"
      },
      "execution_count": null,
      "outputs": []
    },
    {
      "cell_type": "code",
      "source": [
        "diabetes_X"
      ],
      "metadata": {
        "id": "sCNRj5AJCRPG"
      },
      "execution_count": null,
      "outputs": []
    },
    {
      "cell_type": "code",
      "source": [
        "# ONE INDEPENDENT FEATURE\n",
        "diabetes_X = diabetes_X[:, np.newaxis, 2]\n",
        "# print(diabetes_X)\n",
        "# Split INDEPENDENT data into training/testing sets\n",
        "diabetes_X_train = diabetes_X[:-20]\n",
        "diabetes_X_test = diabetes_X[-20:]\n",
        "\n",
        "# Split DEPENDENT data into training/testing sets\n",
        "diabetes_y_train = diabetes_y[:-20]\n",
        "diabetes_y_test = diabetes_y[-20:]"
      ],
      "metadata": {
        "id": "yE5Tn8Hj-mO9"
      },
      "execution_count": null,
      "outputs": []
    },
    {
      "cell_type": "code",
      "source": [
        "model = linear_model.LinearRegression()\n",
        "model.fit(diabetes_X_train, diabetes_y_train)"
      ],
      "metadata": {
        "colab": {
          "base_uri": "https://localhost:8080/",
          "height": 75
        },
        "id": "W1-woC9V-vPK",
        "outputId": "c78aeae2-e08b-4275-bdbb-110b8fc8d52d"
      },
      "execution_count": null,
      "outputs": [
        {
          "output_type": "execute_result",
          "data": {
            "text/plain": [
              "LinearRegression()"
            ],
            "text/html": [
              "<style>#sk-container-id-2 {color: black;background-color: white;}#sk-container-id-2 pre{padding: 0;}#sk-container-id-2 div.sk-toggleable {background-color: white;}#sk-container-id-2 label.sk-toggleable__label {cursor: pointer;display: block;width: 100%;margin-bottom: 0;padding: 0.3em;box-sizing: border-box;text-align: center;}#sk-container-id-2 label.sk-toggleable__label-arrow:before {content: \"▸\";float: left;margin-right: 0.25em;color: #696969;}#sk-container-id-2 label.sk-toggleable__label-arrow:hover:before {color: black;}#sk-container-id-2 div.sk-estimator:hover label.sk-toggleable__label-arrow:before {color: black;}#sk-container-id-2 div.sk-toggleable__content {max-height: 0;max-width: 0;overflow: hidden;text-align: left;background-color: #f0f8ff;}#sk-container-id-2 div.sk-toggleable__content pre {margin: 0.2em;color: black;border-radius: 0.25em;background-color: #f0f8ff;}#sk-container-id-2 input.sk-toggleable__control:checked~div.sk-toggleable__content {max-height: 200px;max-width: 100%;overflow: auto;}#sk-container-id-2 input.sk-toggleable__control:checked~label.sk-toggleable__label-arrow:before {content: \"▾\";}#sk-container-id-2 div.sk-estimator input.sk-toggleable__control:checked~label.sk-toggleable__label {background-color: #d4ebff;}#sk-container-id-2 div.sk-label input.sk-toggleable__control:checked~label.sk-toggleable__label {background-color: #d4ebff;}#sk-container-id-2 input.sk-hidden--visually {border: 0;clip: rect(1px 1px 1px 1px);clip: rect(1px, 1px, 1px, 1px);height: 1px;margin: -1px;overflow: hidden;padding: 0;position: absolute;width: 1px;}#sk-container-id-2 div.sk-estimator {font-family: monospace;background-color: #f0f8ff;border: 1px dotted black;border-radius: 0.25em;box-sizing: border-box;margin-bottom: 0.5em;}#sk-container-id-2 div.sk-estimator:hover {background-color: #d4ebff;}#sk-container-id-2 div.sk-parallel-item::after {content: \"\";width: 100%;border-bottom: 1px solid gray;flex-grow: 1;}#sk-container-id-2 div.sk-label:hover label.sk-toggleable__label {background-color: #d4ebff;}#sk-container-id-2 div.sk-serial::before {content: \"\";position: absolute;border-left: 1px solid gray;box-sizing: border-box;top: 0;bottom: 0;left: 50%;z-index: 0;}#sk-container-id-2 div.sk-serial {display: flex;flex-direction: column;align-items: center;background-color: white;padding-right: 0.2em;padding-left: 0.2em;position: relative;}#sk-container-id-2 div.sk-item {position: relative;z-index: 1;}#sk-container-id-2 div.sk-parallel {display: flex;align-items: stretch;justify-content: center;background-color: white;position: relative;}#sk-container-id-2 div.sk-item::before, #sk-container-id-2 div.sk-parallel-item::before {content: \"\";position: absolute;border-left: 1px solid gray;box-sizing: border-box;top: 0;bottom: 0;left: 50%;z-index: -1;}#sk-container-id-2 div.sk-parallel-item {display: flex;flex-direction: column;z-index: 1;position: relative;background-color: white;}#sk-container-id-2 div.sk-parallel-item:first-child::after {align-self: flex-end;width: 50%;}#sk-container-id-2 div.sk-parallel-item:last-child::after {align-self: flex-start;width: 50%;}#sk-container-id-2 div.sk-parallel-item:only-child::after {width: 0;}#sk-container-id-2 div.sk-dashed-wrapped {border: 1px dashed gray;margin: 0 0.4em 0.5em 0.4em;box-sizing: border-box;padding-bottom: 0.4em;background-color: white;}#sk-container-id-2 div.sk-label label {font-family: monospace;font-weight: bold;display: inline-block;line-height: 1.2em;}#sk-container-id-2 div.sk-label-container {text-align: center;}#sk-container-id-2 div.sk-container {/* jupyter's `normalize.less` sets `[hidden] { display: none; }` but bootstrap.min.css set `[hidden] { display: none !important; }` so we also need the `!important` here to be able to override the default hidden behavior on the sphinx rendered scikit-learn.org. See: https://github.com/scikit-learn/scikit-learn/issues/21755 */display: inline-block !important;position: relative;}#sk-container-id-2 div.sk-text-repr-fallback {display: none;}</style><div id=\"sk-container-id-2\" class=\"sk-top-container\"><div class=\"sk-text-repr-fallback\"><pre>LinearRegression()</pre><b>In a Jupyter environment, please rerun this cell to show the HTML representation or trust the notebook. <br />On GitHub, the HTML representation is unable to render, please try loading this page with nbviewer.org.</b></div><div class=\"sk-container\" hidden><div class=\"sk-item\"><div class=\"sk-estimator sk-toggleable\"><input class=\"sk-toggleable__control sk-hidden--visually\" id=\"sk-estimator-id-2\" type=\"checkbox\" checked><label for=\"sk-estimator-id-2\" class=\"sk-toggleable__label sk-toggleable__label-arrow\">LinearRegression</label><div class=\"sk-toggleable__content\"><pre>LinearRegression()</pre></div></div></div></div></div>"
            ]
          },
          "metadata": {},
          "execution_count": 18
        }
      ]
    },
    {
      "cell_type": "code",
      "source": [
        "# Make predictions using the testing set\n",
        "diabetes_y_pred = model.predict(diabetes_X_test)\n",
        "\n",
        "# The coefficients\n",
        "print(\"Coefficients: \\n\", model.coef_)\n",
        "# The mean squared error\n",
        "print(\"Mean squared error: %.2f\" % mean_squared_error(diabetes_y_test, diabetes_y_pred))\n",
        "# The coefficient of determination: 1 is perfect prediction\n",
        "print(\"Coefficient of determination: %.2f\" % r2_score(diabetes_y_test, diabetes_y_pred))"
      ],
      "metadata": {
        "colab": {
          "base_uri": "https://localhost:8080/"
        },
        "id": "W7ndoNlk-67g",
        "outputId": "6cb9b9f5-f483-428b-e3bd-415a6b844d00"
      },
      "execution_count": null,
      "outputs": [
        {
          "output_type": "stream",
          "name": "stdout",
          "text": [
            "Coefficients: \n",
            " [938.23786125]\n",
            "Mean squared error: 2548.07\n",
            "Coefficient of determination: 0.47\n"
          ]
        }
      ]
    },
    {
      "cell_type": "code",
      "source": [
        "# Plot outputs\n",
        "plt.scatter(diabetes_X_test, diabetes_y_test, color=\"black\")\n",
        "plt.plot(diabetes_X_test, diabetes_y_pred, color=\"blue\", linewidth=3)\n",
        "\n",
        "plt.xticks(())\n",
        "plt.yticks(())\n",
        "\n",
        "plt.show()"
      ],
      "metadata": {
        "colab": {
          "base_uri": "https://localhost:8080/",
          "height": 406
        },
        "id": "9Hm8oLjb-DWt",
        "outputId": "d068488f-2fb6-4c52-e5c5-6f8ac0f1c187"
      },
      "execution_count": null,
      "outputs": [
        {
          "output_type": "display_data",
          "data": {
            "text/plain": [
              "<Figure size 640x480 with 1 Axes>"
            ],
            "image/png": "[encoded data removed]"
          },
          "metadata": {}
        }
      ]
    },
    {
      "cell_type": "markdown",
      "source": [
        "#Preprocessing functionalities\n",
        "scikit-learn refer to a set of techniques and tools that help in preparing and transforming the raw input data before it is used for machine learning tasks. These functionalities are applied to improve the quality and compatibility of the data for better model performance.\n",
        "\n",
        "Some common preprocessing techniques offered by scikit-learn include:\n",
        "\n",
        "**Data Scaling/Normalization**: Scaling features to a specific range, such as Min-Max scaling or Standardization, to ensure they have similar magnitudes.\n",
        "\n",
        "**Handling Missing Data**: Strategies to handle missing values in the dataset, such as imputation (filling missing values with estimated values) or removal of incomplete data.\n",
        "\n",
        "**Encoding Categorical Variables**: Transforming categorical variables into numerical representations, such as one-hot encoding or label encoding, to make them compatible with machine learning algorithms.\n",
        "\n",
        "**Feature Extraction**: Extracting relevant features from the dataset using techniques like Principal Component Analysis (PCA) or feature selection methods.\n",
        "\n",
        "**Handling Outliers**: Identifying and dealing with outliers, which are extreme values that can affect model performance, through techniques like trimming, winsorization, or outlier removal.\n",
        "\n",
        "**Data Partitioning**: Splitting the dataset into training and testing sets for model evaluation and validation.\n",
        "\n",
        "These preprocessing functionalities help in preparing the data in a format that is suitable for training machine learning models, improving model performance, and avoiding issues such as biased or inaccurate predictions."
      ],
      "metadata": {
        "id": "stOQ2VMq4xLc"
      }
    }
  ]
}